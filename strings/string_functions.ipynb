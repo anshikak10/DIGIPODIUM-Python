{
 "cells": [
  {
   "cell_type": "code",
   "execution_count": 1,
   "metadata": {},
   "outputs": [],
   "source": [
    "msg = '''The updated Google Search experience was one of several changes\n",
    "the company announced today at its Search On event. Google's own research\n",
    "showed that almost 40% of young people would often just search TikTok or\n",
    "Instagram to find a place to for lunch, instead of Google or Google Maps.\n",
    "'''"
   ]
  },
  {
   "cell_type": "code",
   "execution_count": 3,
   "metadata": {},
   "outputs": [
    {
     "name": "stdout",
     "output_type": "stream",
     "text": [
      "total characters:285\n"
     ]
    }
   ],
   "source": [
    "chars = len(msg)\n",
    "print(f'total characters:{chars}')"
   ]
  },
  {
   "cell_type": "code",
   "execution_count": 4,
   "metadata": {},
   "outputs": [
    {
     "data": {
      "text/plain": [
       "26"
      ]
     },
     "execution_count": 4,
     "metadata": {},
     "output_type": "execute_result"
    }
   ],
   "source": [
    "msg.find('experience')"
   ]
  },
  {
   "cell_type": "code",
   "execution_count": 6,
   "metadata": {},
   "outputs": [
    {
     "data": {
      "text/plain": [
       "12"
      ]
     },
     "execution_count": 6,
     "metadata": {},
     "output_type": "execute_result"
    }
   ],
   "source": [
    "msg.find('Google')"
   ]
  },
  {
   "cell_type": "code",
   "execution_count": 7,
   "metadata": {},
   "outputs": [
    {
     "data": {
      "text/plain": [
       "-1"
      ]
     },
     "execution_count": 7,
     "metadata": {},
     "output_type": "execute_result"
    }
   ],
   "source": [
    "msg.find('poogle')"
   ]
  },
  {
   "cell_type": "code",
   "execution_count": 24,
   "metadata": {},
   "outputs": [
    {
     "data": {
      "text/plain": [
       "272"
      ]
     },
     "execution_count": 24,
     "metadata": {},
     "output_type": "execute_result"
    }
   ],
   "source": [
    "msg.rfind('Google')"
   ]
  },
  {
   "cell_type": "code",
   "execution_count": 10,
   "metadata": {},
   "outputs": [
    {
     "data": {
      "text/plain": [
       "\"experience was one of several changes\\nthe company announced today at its Search On event. Google's own research\\nshowed that almost 40% of young people would often just search TikTok or\\nInstagram to find a place to for lunch, instead of Google or Google Maps.\\n\""
      ]
     },
     "execution_count": 10,
     "metadata": {},
     "output_type": "execute_result"
    }
   ],
   "source": [
    "idx = msg.find('experience')\n",
    "msg[idx:]"
   ]
  },
  {
   "cell_type": "code",
   "execution_count": 11,
   "metadata": {},
   "outputs": [
    {
     "name": "stdout",
     "output_type": "stream",
     "text": [
      "The updated Google Search experience was one of several changes\n",
      "the company announced today at its Search On event. Google's own research\n",
      "showed that almost 40% of young people would often just search TikTok or\n",
      "Instagram to find a place to for lunch, instead of Google or Google Maps.\n",
      "\n"
     ]
    }
   ],
   "source": [
    "print(msg)"
   ]
  },
  {
   "cell_type": "code",
   "execution_count": 13,
   "metadata": {},
   "outputs": [
    {
     "name": "stdout",
     "output_type": "stream",
     "text": [
      "The updated Microsoft Search experience was one of several changes\n",
      "the company announced today at its Search On event. Microsoft's own research\n",
      "showed that almost 40% of young people would often just search TikTok or\n",
      "Instagram to find a place to for lunch, instead of Microsoft or Microsoft Maps.\n",
      "\n"
     ]
    }
   ],
   "source": [
    "result = msg.replace(\"Google\", \"Microsoft\")\n",
    "print(result)"
   ]
  },
  {
   "cell_type": "code",
   "execution_count": 20,
   "metadata": {},
   "outputs": [
    {
     "name": "stdout",
     "output_type": "stream",
     "text": [
      "The updated Meta Rescue experience is one of several changes\n",
      "the company announced today at its Rescue On event. Meta's own research\n",
      "showed that almost 40% of young people would often just search TikTok or\n",
      "Instagram to find a place to for lunch, instead of Meta or Meta Maps.\n",
      "\n"
     ]
    }
   ],
   "source": [
    "result2 = msg.replace('was','is').replace(\"Search\",'Rescue').replace('Google', 'Meta')\n",
    "print(result2)"
   ]
  },
  {
   "cell_type": "code",
   "execution_count": 21,
   "metadata": {},
   "outputs": [
    {
     "data": {
      "text/plain": [
       "20"
      ]
     },
     "execution_count": 21,
     "metadata": {},
     "output_type": "execute_result"
    }
   ],
   "source": [
    "msg.count('a')"
   ]
  },
  {
   "cell_type": "code",
   "execution_count": 22,
   "metadata": {},
   "outputs": [
    {
     "data": {
      "text/plain": [
       "4"
      ]
     },
     "execution_count": 22,
     "metadata": {},
     "output_type": "execute_result"
    }
   ],
   "source": [
    "msg.count('Google')"
   ]
  },
  {
   "cell_type": "code",
   "execution_count": null,
   "metadata": {},
   "outputs": [],
   "source": []
  }
 ],
 "metadata": {
  "kernelspec": {
   "display_name": "Python 3.9.12 ('base')",
   "language": "python",
   "name": "python3"
  },
  "language_info": {
   "codemirror_mode": {
    "name": "ipython",
    "version": 3
   },
   "file_extension": ".py",
   "mimetype": "text/x-python",
   "name": "python",
   "nbconvert_exporter": "python",
   "pygments_lexer": "ipython3",
   "version": "3.9.12"
  },
  "orig_nbformat": 4,
  "vscode": {
   "interpreter": {
    "hash": "95d50a5c078e45808b0310509146bdfa25d1e01a1940ba5c1a212b3c73de28e0"
   }
  }
 },
 "nbformat": 4,
 "nbformat_minor": 2
}
