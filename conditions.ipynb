{
 "cells": [
  {
   "cell_type": "code",
   "execution_count": 2,
   "metadata": {},
   "outputs": [],
   "source": [
    "a = 10\n",
    "b = 3"
   ]
  },
  {
   "cell_type": "code",
   "execution_count": 3,
   "metadata": {},
   "outputs": [
    {
     "name": "stdout",
     "output_type": "stream",
     "text": [
      "Okay\n",
      "I understand\n"
     ]
    }
   ],
   "source": [
    "if a >5:\n",
    "    print('Okay')\n",
    "    print('I understand')"
   ]
  },
  {
   "cell_type": "code",
   "execution_count": 4,
   "metadata": {},
   "outputs": [],
   "source": [
    "if a <5:\n",
    "    print('A is less than 5')\n",
    "    print('Awesome')"
   ]
  },
  {
   "cell_type": "code",
   "execution_count": 6,
   "metadata": {},
   "outputs": [
    {
     "name": "stdout",
     "output_type": "stream",
     "text": [
      "The value of A: 7\n"
     ]
    }
   ],
   "source": [
    "a = int(input('enter a number:'))\n",
    "if a > 50:\n",
    "    a+=10\n",
    "print(f\"The value of A: {a}\")"
   ]
  },
  {
   "cell_type": "code",
   "execution_count": 6,
   "metadata": {},
   "outputs": [
    {
     "name": "stdout",
     "output_type": "stream",
     "text": [
      " the value of A = 7 this is sparta\n"
     ]
    }
   ],
   "source": [
    "result = f'the {a} + {b} => {a+b}'\n",
    "print(f' the value of A = {a}', 'this is sparta')"
   ]
  },
  {
   "cell_type": "code",
   "execution_count": 7,
   "metadata": {},
   "outputs": [
    {
     "name": "stdout",
     "output_type": "stream",
     "text": [
      "Bad\n"
     ]
    }
   ],
   "source": [
    "if a < b:\n",
    "    print('Nice')\n",
    "else:\n",
    "    print('Bad')"
   ]
  },
  {
   "cell_type": "code",
   "execution_count": 8,
   "metadata": {},
   "outputs": [
    {
     "name": "stdout",
     "output_type": "stream",
     "text": [
      "232 is Even\n"
     ]
    }
   ],
   "source": [
    "number = int(input(\"Enter a number\"))\n",
    "\n",
    "if number % 2 == 0:\n",
    "    print (f\"{number} is Even\")\n",
    "else:\n",
    "    print(f'{number} is Odd')"
   ]
  },
  {
   "cell_type": "code",
   "execution_count": 7,
   "metadata": {},
   "outputs": [
    {
     "name": "stdout",
     "output_type": "stream",
     "text": [
      "35 is divisible by 5 and 7 both\n"
     ]
    }
   ],
   "source": [
    "#check if the number is divisible by 5 and 7\n",
    "number = int(input(\"Enter a number\"))\n",
    "\n",
    "if number % 5 == 0 and number % 7 == 0:\n",
    "    print(f'{number} is divisible by 5 and 7 both')\n",
    "else:\n",
    "    print(f'{number} is not divisible by 5 and 7')"
   ]
  },
  {
   "cell_type": "code",
   "execution_count": null,
   "metadata": {},
   "outputs": [],
   "source": []
  }
 ],
 "metadata": {
  "kernelspec": {
   "display_name": "Python 3.9.12 ('base')",
   "language": "python",
   "name": "python3"
  },
  "language_info": {
   "codemirror_mode": {
    "name": "ipython",
    "version": 3
   },
   "file_extension": ".py",
   "mimetype": "text/x-python",
   "name": "python",
   "nbconvert_exporter": "python",
   "pygments_lexer": "ipython3",
   "version": "3.9.12"
  },
  "orig_nbformat": 4,
  "vscode": {
   "interpreter": {
    "hash": "95d50a5c078e45808b0310509146bdfa25d1e01a1940ba5c1a212b3c73de28e0"
   }
  }
 },
 "nbformat": 4,
 "nbformat_minor": 2
}
