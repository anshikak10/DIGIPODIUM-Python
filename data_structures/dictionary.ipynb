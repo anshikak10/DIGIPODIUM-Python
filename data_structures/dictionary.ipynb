{
 "cells": [
  {
   "cell_type": "code",
   "execution_count": 1,
   "metadata": {},
   "outputs": [],
   "source": [
    "x = ['Ravi Prakash', 100, 22, 241652, 'Lucknow', 'Regional Manager', True, False]"
   ]
  },
  {
   "cell_type": "code",
   "execution_count": 2,
   "metadata": {},
   "outputs": [],
   "source": [
    "data = {'name': 'Ravi Prakash', 'eid': 100,\n",
    "        'age': 22, 'pincode': 241652, 'city': 'Lucknow',\n",
    "        'desig': 'Regional Manager', 'is_married': True, 'have_children': True}"
   ]
  },
  {
   "cell_type": "code",
   "execution_count": 3,
   "metadata": {},
   "outputs": [
    {
     "name": "stdout",
     "output_type": "stream",
     "text": [
      "{'name': 'Ravi Prakash', 'eid': 100, 'age': 22, 'pincode': 241652, 'city': 'Lucknow', 'desig': 'Regional Manager', 'is_married': True, 'have_children': True}\n"
     ]
    }
   ],
   "source": [
    "print(data)"
   ]
  },
  {
   "cell_type": "code",
   "execution_count": 4,
   "metadata": {},
   "outputs": [
    {
     "data": {
      "text/plain": [
       "'Regional Manager'"
      ]
     },
     "execution_count": 4,
     "metadata": {},
     "output_type": "execute_result"
    }
   ],
   "source": [
    "data['desig']"
   ]
  },
  {
   "cell_type": "code",
   "execution_count": 5,
   "metadata": {},
   "outputs": [
    {
     "data": {
      "text/plain": [
       "'Ravi Prakash'"
      ]
     },
     "execution_count": 5,
     "metadata": {},
     "output_type": "execute_result"
    }
   ],
   "source": [
    "data['name']"
   ]
  },
  {
   "cell_type": "code",
   "execution_count": 6,
   "metadata": {},
   "outputs": [],
   "source": [
    "data['age']= 23          #update"
   ]
  },
  {
   "cell_type": "code",
   "execution_count": 9,
   "metadata": {},
   "outputs": [
    {
     "data": {
      "text/plain": [
       "{'name': 'Ravi Prakash',\n",
       " 'eid': 100,\n",
       " 'age': 23,\n",
       " 'pincode': 241652,\n",
       " 'city': 'Lucknow',\n",
       " 'desig': 'Regional Manager',\n",
       " 'is_married': True,\n",
       " 'have_children': True,\n",
       " 'dept': 'Sales'}"
      ]
     },
     "execution_count": 9,
     "metadata": {},
     "output_type": "execute_result"
    }
   ],
   "source": [
    "data"
   ]
  },
  {
   "cell_type": "code",
   "execution_count": 7,
   "metadata": {},
   "outputs": [],
   "source": [
    "data['dept']= 'Sales'    # adding data"
   ]
  },
  {
   "cell_type": "code",
   "execution_count": 8,
   "metadata": {},
   "outputs": [
    {
     "data": {
      "text/plain": [
       "{'name': 'Ravi Prakash',\n",
       " 'eid': 100,\n",
       " 'age': 23,\n",
       " 'pincode': 241652,\n",
       " 'city': 'Lucknow',\n",
       " 'desig': 'Regional Manager',\n",
       " 'is_married': True,\n",
       " 'have_children': True,\n",
       " 'dept': 'Sales'}"
      ]
     },
     "execution_count": 8,
     "metadata": {},
     "output_type": "execute_result"
    }
   ],
   "source": [
    "data"
   ]
  },
  {
   "cell_type": "code",
   "execution_count": 10,
   "metadata": {},
   "outputs": [
    {
     "data": {
      "text/plain": [
       "True"
      ]
     },
     "execution_count": 10,
     "metadata": {},
     "output_type": "execute_result"
    }
   ],
   "source": [
    "data.pop('is_married')    #remove"
   ]
  },
  {
   "cell_type": "code",
   "execution_count": 12,
   "metadata": {},
   "outputs": [
    {
     "name": "stdout",
     "output_type": "stream",
     "text": [
      "{'name': 'Ravi Prakash', 'eid': 100, 'age': 23, 'pincode': 241652, 'city': 'Lucknow', 'desig': 'Regional Manager', 'have_children': True, 'dept': 'Sales'}\n"
     ]
    }
   ],
   "source": [
    "print(data)"
   ]
  },
  {
   "cell_type": "code",
   "execution_count": 13,
   "metadata": {},
   "outputs": [
    {
     "name": "stdout",
     "output_type": "stream",
     "text": [
      "name\n",
      "eid\n",
      "age\n",
      "pincode\n",
      "city\n",
      "desig\n",
      "have_children\n",
      "dept\n"
     ]
    }
   ],
   "source": [
    "# basic loop\n",
    "for i in data:\n",
    "    print(i)"
   ]
  },
  {
   "cell_type": "code",
   "execution_count": 14,
   "metadata": {},
   "outputs": [
    {
     "name": "stdout",
     "output_type": "stream",
     "text": [
      "name Ravi Prakash\n",
      "eid 100\n",
      "age 23\n",
      "pincode 241652\n",
      "city Lucknow\n",
      "desig Regional Manager\n",
      "have_children True\n",
      "dept Sales\n"
     ]
    }
   ],
   "source": [
    "# actual loop\n",
    "for k, v in data.items():\n",
    "    print(k,v)"
   ]
  },
  {
   "cell_type": "code",
   "execution_count": 15,
   "metadata": {},
   "outputs": [
    {
     "name": "stdout",
     "output_type": "stream",
     "text": [
      "name Ravi Prakash\n",
      "eid 100\n",
      "age 23\n",
      "pincode 241652\n",
      "city Lucknow\n",
      "desig Regional Manager\n",
      "have_children True\n",
      "dept Sales\n"
     ]
    }
   ],
   "source": [
    "# this also works\n",
    "for i in data:\n",
    "    print(i, data[i])"
   ]
  },
  {
   "cell_type": "code",
   "execution_count": 16,
   "metadata": {},
   "outputs": [
    {
     "name": "stdout",
     "output_type": "stream",
     "text": [
      "[1, 2, 3, 4, 5, 6, 7]\n",
      "[2, 4, 6]\n"
     ]
    }
   ],
   "source": [
    "# odd indexes from a list\n",
    "x = [1, 2, 3, 4, 5, 6, 7]\n",
    "x_odd = x[1::2]\n",
    "print(x)\n",
    "print(x_odd)"
   ]
  },
  {
   "cell_type": "code",
   "execution_count": 17,
   "metadata": {},
   "outputs": [
    {
     "name": "stdout",
     "output_type": "stream",
     "text": [
      "[2, 4, 6]\n"
     ]
    }
   ],
   "source": [
    "x = [1, 2, 3, 4, 5, 6, 7]\n",
    "x_odd = []\n",
    "for i, v in enumerate(x):\n",
    "    if i % 2 != 0:\n",
    "        x_odd.append(v)\n",
    "print(x_odd)"
   ]
  },
  {
   "cell_type": "code",
   "execution_count": 21,
   "metadata": {},
   "outputs": [],
   "source": [
    "user_data = {}\n",
    "for i in range(5):\n",
    "    key = input(\"enter name?\")\n",
    "    val = input(\"enter value =>\")\n",
    "    user_data[key] = val\n",
    "\n",
    "print(user_data)"
   ]
  },
  {
   "cell_type": "code",
   "execution_count": 1,
   "metadata": {},
   "outputs": [],
   "source": [
    "# store student marks in a dict\n",
    "report = {\n",
    "    'Raja': {\n",
    "        'eng' : [50, 80],\n",
    "        'hindi' : [40, 83],\n",
    "        'maths' : [39, 59],\n",
    "    },\n",
    "    'Rani' : {\n",
    "        'eng' : [29, 49],\n",
    "        'hindi' : [40, 70],\n",
    "        'maths' : [2,1],\n",
    "    },\n",
    "}\n"
   ]
  },
  {
   "cell_type": "code",
   "execution_count": 2,
   "metadata": {},
   "outputs": [
    {
     "data": {
      "text/plain": [
       "{'Raja': {'eng': [50, 80], 'hindi': [40, 83], 'maths': [39, 59], 'Comp': 90},\n",
       " 'Rani': {'eng': [29, 49], 'hindi': [40, 70], 'maths': [2, 1]}}"
      ]
     },
     "execution_count": 2,
     "metadata": {},
     "output_type": "execute_result"
    }
   ],
   "source": [
    "report['Raja'] ['Comp'] = 90\n",
    "report"
   ]
  },
  {
   "cell_type": "code",
   "execution_count": 3,
   "metadata": {},
   "outputs": [
    {
     "data": {
      "text/plain": [
       "[40, 70]"
      ]
     },
     "execution_count": 3,
     "metadata": {},
     "output_type": "execute_result"
    }
   ],
   "source": [
    "report['Rani'] ['hindi']\n"
   ]
  },
  {
   "cell_type": "code",
   "execution_count": 5,
   "metadata": {},
   "outputs": [
    {
     "name": "stdout",
     "output_type": "stream",
     "text": [
      "Raja\n",
      " => eng = [50, 80]\n",
      " => hindi = [40, 83]\n",
      " => maths = [39, 59]\n",
      " => Comp = 90\n",
      "Rani\n",
      " => eng = [29, 49]\n",
      " => hindi = [40, 70]\n",
      " => maths = [2, 1]\n"
     ]
    }
   ],
   "source": [
    "for name, marks in report.items():\n",
    "    print(name)\n",
    "    for subject, val in marks.items():\n",
    "        print(f' => {subject} = {val}')"
   ]
  },
  {
   "cell_type": "code",
   "execution_count": 1,
   "metadata": {},
   "outputs": [],
   "source": [
    "# wap to create a contact dictionary, which will have some names and phone numbers. \n",
    "# The user can search for a name through input. If the name is in the dictionary, then display the phone number else, \n",
    "# ask the user to add the number of the person by him/her self.\n",
    "# contact = {'police': 112, 'hospital': 109}"
   ]
  },
  {
   "cell_type": "code",
   "execution_count": 6,
   "metadata": {},
   "outputs": [
    {
     "data": {
      "text/plain": [
       "65"
      ]
     },
     "execution_count": 6,
     "metadata": {},
     "output_type": "execute_result"
    }
   ],
   "source": [
    "ord('A')"
   ]
  },
  {
   "cell_type": "code",
   "execution_count": null,
   "metadata": {},
   "outputs": [],
   "source": []
  }
 ],
 "metadata": {
  "kernelspec": {
   "display_name": "Python 3.9.12 ('base')",
   "language": "python",
   "name": "python3"
  },
  "language_info": {
   "codemirror_mode": {
    "name": "ipython",
    "version": 3
   },
   "file_extension": ".py",
   "mimetype": "text/x-python",
   "name": "python",
   "nbconvert_exporter": "python",
   "pygments_lexer": "ipython3",
   "version": "3.9.12"
  },
  "orig_nbformat": 4,
  "vscode": {
   "interpreter": {
    "hash": "95d50a5c078e45808b0310509146bdfa25d1e01a1940ba5c1a212b3c73de28e0"
   }
  }
 },
 "nbformat": 4,
 "nbformat_minor": 2
}
